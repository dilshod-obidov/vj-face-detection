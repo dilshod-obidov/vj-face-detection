{
 "cells": [
  {
   "cell_type": "markdown",
   "metadata": {},
   "source": [
    "# Get some random N samples from dataset"
   ]
  },
  {
   "cell_type": "code",
   "execution_count": null,
   "metadata": {},
   "outputs": [],
   "source": [
    "import os\n",
    "import random\n",
    "import shutil\n",
    "\n",
    "# Define paths\n",
    "images_path = 'dataset/train/images'\n",
    "annotations_path = 'dataset/train/labels'\n",
    "sampled_images_path = 'sampled_data/images'\n",
    "sampled_annotations_path = 'sampled_data/labels'\n",
    "\n",
    "# Make directories for sampled data\n",
    "os.makedirs(sampled_images_path, exist_ok=True)\n",
    "os.makedirs(sampled_annotations_path, exist_ok=True)\n",
    "\n",
    "# List all images in the dataset\n",
    "all_images = [img for img in os.listdir(images_path) if img.endswith('.jpg')]\n",
    "\n",
    "# Randomly select 100 images\n",
    "sampled_images = random.sample(all_images, 100)\n",
    "\n",
    "# Copy sampled images and their corresponding annotation files\n",
    "for image_name in sampled_images:\n",
    "    # Copy image\n",
    "    src_image_path = os.path.join(images_path, image_name)\n",
    "    dst_image_path = os.path.join(sampled_images_path, image_name)\n",
    "    shutil.copy(src_image_path, dst_image_path)\n",
    "    \n",
    "    # Copy corresponding annotation\n",
    "    annotation_name = os.path.splitext(image_name)[0] + '.txt'\n",
    "    src_annotation_path = os.path.join(annotations_path, annotation_name)\n",
    "    dst_annotation_path = os.path.join(sampled_annotations_path, annotation_name)\n",
    "    if os.path.exists(src_annotation_path):\n",
    "        shutil.copy(src_annotation_path, dst_annotation_path)\n",
    "\n",
    "print(\"Sampled 100 images and annotations.\")\n"
   ]
  },
  {
   "cell_type": "markdown",
   "metadata": {},
   "source": [
    "# Get negative images"
   ]
  },
  {
   "cell_type": "code",
   "execution_count": null,
   "metadata": {},
   "outputs": [],
   "source": [
    "import os\n",
    "import random\n",
    "import shutil\n",
    "\n",
    "# Paths to your full dataset and target folder for negatives\n",
    "full_images_path = 'haarcascade-negatives/images'\n",
    "negatives_path = 'data/n'\n",
    "\n",
    "# Create directory for negatives if it doesn't exist\n",
    "os.makedirs(negatives_path, exist_ok=True)\n",
    "\n",
    "# List all images in the dataset\n",
    "all_images = [img for img in os.listdir(full_images_path) if img.endswith('.jpg')]\n",
    "\n",
    "# Randomly select 200 images\n",
    "negative_images = random.sample(all_images, 425)\n",
    "\n",
    "# Copy selected negative images to the negatives folder\n",
    "for image_name in negative_images:\n",
    "    src_image_path = os.path.join(full_images_path, image_name)\n",
    "    dst_image_path = os.path.join(negatives_path, image_name)\n",
    "    shutil.copy(src_image_path, dst_image_path)\n",
    "\n",
    "# Create the negatives.txt file\n",
    "# with open('negatives.txt', 'w') as f:\n",
    "#     for image_name in negative_images:\n",
    "#         f.write(os.path.join(negatives_path, image_name) + '\\n')\n",
    "\n",
    "print(\"Selected 425 negative images and created negatives.txt.\")\n"
   ]
  }
 ],
 "metadata": {
  "kernelspec": {
   "display_name": "myenv",
   "language": "python",
   "name": "python3"
  },
  "language_info": {
   "codemirror_mode": {
    "name": "ipython",
    "version": 3
   },
   "file_extension": ".py",
   "mimetype": "text/x-python",
   "name": "python",
   "nbconvert_exporter": "python",
   "pygments_lexer": "ipython3",
   "version": "3.10.12"
  }
 },
 "nbformat": 4,
 "nbformat_minor": 2
}
